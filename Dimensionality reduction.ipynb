{
 "cells": [
  {
   "cell_type": "code",
   "execution_count": 1,
   "metadata": {},
   "outputs": [],
   "source": [
    "from sklearn.datasets import load_iris, load_digits, load_wine, load_breast_cancer\n",
    "from sklearn.preprocessing import StandardScaler\n",
    "from sklearn.decomposition import KernelPCA\n",
    "from simforest.cluster import SimilarityForestCluster\n",
    "import numpy as np\n",
    "import matplotlib.pyplot as plt\n",
    "import umap\n",
    "\n",
    "import matplotlib as mpl\n",
    "mpl.rcParams['image.cmap'] = 'Accent'\n",
    "mpl.rcParams['figure.figsize'] = [8.0, 8.0]\n",
    "\n",
    "import warnings\n",
    "warnings.simplefilter('ignore', RuntimeWarning)"
   ]
  },
  {
   "cell_type": "markdown",
   "metadata": {},
   "source": [
    "For each dataset, unsupervised Similarity Forest is fitted, returning a similarity matrix for each pair of points. This matrix is then used for clustering using HDBSCAN."
   ]
  },
  {
   "cell_type": "markdown",
   "metadata": {},
   "source": [
    "# Iris"
   ]
  },
  {
   "cell_type": "code",
   "execution_count": null,
   "metadata": {},
   "outputs": [],
   "source": [
    "X, y = load_iris(return_X_y=True)\n",
    "X = StandardScaler().fit_transform(X)\n",
    "\n",
    "sf = SimilarityForestCluster(n_estimators=20, sim_function='euclidean', technique='hdbscan')\n",
    "sf = sf.fit(X)\n",
    "sf_distance_matrix = sf.distance_matrix_"
   ]
  },
  {
   "cell_type": "markdown",
   "metadata": {},
   "source": [
    "Each entry in the matrix represent depth, at which a pair of points splits. By dividing by the number of threes, we can observe average split depth."
   ]
  },
  {
   "cell_type": "code",
   "execution_count": null,
   "metadata": {},
   "outputs": [],
   "source": [
    "sf_distance_matrix[11, 27] / 20"
   ]
  },
  {
   "cell_type": "code",
   "execution_count": null,
   "metadata": {},
   "outputs": [],
   "source": [
    "sf_pca = umap.UMAP(n_components=2, metrics='precomputed')\n",
    "sf_projection = sf_pca.fit_transform(sf_distance_matrix)\n",
    "\n",
    "fig, (ax1, ax2) = plt.subplots(1, 2, figsize=(12, 6))\n",
    "fig.suptitle('SF distance + KernelPCA projection of Digits dataset', fontsize=16)\n",
    "ax1.scatter(sf_projection[:, 0], sf_projection[:, 1], c=y, s=50);\n",
    "ax1.set_title('Colored by true clusters');\n",
    "ax2.scatter(sf_projection[:, 0], sf_projection[:, 1], c=sf.labels_, s=50);\n",
    "ax2.set_title('Colored by predicted clusters');\n",
    "ax1.axis('off');\n",
    "ax2.axis('off');"
   ]
  },
  {
   "cell_type": "code",
   "execution_count": null,
   "metadata": {},
   "outputs": [],
   "source": [
    "pca = KernelPCA(n_components=2)\n",
    "original_projection = pca.fit_transform(X)\n",
    "plt.scatter(original_projection[:, 0], original_projection[:, 1], c=y, s=50);\n",
    "plt.title('KernelPCA projection of Iris dataset', fontsize=16);\n",
    "plt.axis('off');"
   ]
  },
  {
   "cell_type": "markdown",
   "metadata": {},
   "source": [
    "# Breast cancer"
   ]
  },
  {
   "cell_type": "code",
   "execution_count": null,
   "metadata": {},
   "outputs": [],
   "source": [
    "X, y = load_breast_cancer(return_X_y=True)\n",
    "X = StandardScaler().fit_transform(X)\n",
    "\n",
    "sf = SimilarityForestCluster(n_estimators=20, sim_function='euclidean', technique='hdbscan')\n",
    "sf = sf.fit(X)\n",
    "sf_distance_matrix = sf.distance_matrix_"
   ]
  },
  {
   "cell_type": "code",
   "execution_count": null,
   "metadata": {},
   "outputs": [],
   "source": [
    "sf_pca = KernelPCA(n_components=2, kernel='precomputed')\n",
    "sf_projection = sf_pca.fit_transform(sf_distance_matrix)\n",
    "\n",
    "fig, (ax1, ax2) = plt.subplots(1, 2, figsize=(12, 6))\n",
    "fig.suptitle('SF distance + UMAP projection of Breast cancer dataset', fontsize=16)\n",
    "ax1.scatter(sf_projection[:, 0], sf_projection[:, 1], c=y, s=50);\n",
    "ax1.set_title('Colored by true clusters');\n",
    "ax2.scatter(sf_projection[:, 0], sf_projection[:, 1], c=sf.labels_, s=50);\n",
    "ax2.set_title('Colored by predicted clusters');\n",
    "ax1.axis('off');\n",
    "ax2.axis('off');"
   ]
  },
  {
   "cell_type": "code",
   "execution_count": null,
   "metadata": {},
   "outputs": [],
   "source": [
    "pca = KernelPCA(n_components=2)\n",
    "original_projection = pca.fit_transform(X)\n",
    "plt.scatter(original_projection[:, 0], original_projection[:, 1], c=y, s=50);\n",
    "plt.title('KernelPCA projection of Breast cancer dataset', fontsize=16);\n",
    "plt.axis('off');"
   ]
  },
  {
   "cell_type": "markdown",
   "metadata": {},
   "source": [
    "# Wine"
   ]
  },
  {
   "cell_type": "code",
   "execution_count": null,
   "metadata": {},
   "outputs": [],
   "source": [
    "X, y = load_wine(return_X_y=True)\n",
    "X = StandardScaler().fit_transform(X)\n",
    "\n",
    "sf = SimilarityForestCluster(n_estimators=20, sim_function='euclidean', technique='hdbscan')\n",
    "sf = sf.fit(X)\n",
    "sf_distance_matrix = sf.distance_matrix_"
   ]
  },
  {
   "cell_type": "code",
   "execution_count": null,
   "metadata": {},
   "outputs": [],
   "source": [
    "sf_pca = KernelPCA(n_components=2, kernel='precomputed')\n",
    "sf_projection = sf_pca.fit_transform(sf_distance_matrix)\n",
    "\n",
    "fig, (ax1, ax2) = plt.subplots(1, 2, figsize=(12, 6))\n",
    "fig.suptitle('SF distance + KernelPCA projection of Wine dataset', fontsize=16)\n",
    "ax1.scatter(sf_projection[:, 0], sf_projection[:, 1], c=y, s=50);\n",
    "ax1.set_title('Colored by true clusters');\n",
    "ax2.scatter(sf_projection[:, 0], sf_projection[:, 1], c=sf.labels_, s=50);\n",
    "ax2.set_title('Colored by predicted clusters');\n",
    "ax1.axis('off');\n",
    "ax2.axis('off');"
   ]
  },
  {
   "cell_type": "code",
   "execution_count": null,
   "metadata": {},
   "outputs": [],
   "source": [
    "pca = KernelPCA(n_components=2)\n",
    "original_projection = pca.fit_transform(X)\n",
    "plt.scatter(original_projection[:, 0], original_projection[:, 1], c=y, s=50);\n",
    "plt.title('KernelPCA projection of Wine dataset', fontsize=16);\n",
    "plt.axis('off');"
   ]
  },
  {
   "cell_type": "markdown",
   "metadata": {},
   "source": [
    "# Digits"
   ]
  },
  {
   "cell_type": "code",
   "execution_count": null,
   "metadata": {},
   "outputs": [],
   "source": [
    "X, y = load_digits(return_X_y=True)\n",
    "X = StandardScaler().fit_transform(X)\n",
    "\n",
    "sf = SimilarityForestCluster(n_estimators=20, sim_function='euclidean', technique='hdbscan')\n",
    "sf = sf.fit(X)\n",
    "sf_distance_matrix = sf.distance_matrix_"
   ]
  },
  {
   "cell_type": "code",
   "execution_count": null,
   "metadata": {},
   "outputs": [],
   "source": [
    "sf_pca = KernelPCA(n_components=2, kernel='precomputed')\n",
    "sf_projection = sf_pca.fit_transform(sf_distance_matrix)\n",
    "\n",
    "fig, (ax1, ax2) = plt.subplots(1, 2, figsize=(12, 6))\n",
    "fig.suptitle('SF distance + KernelPCA projection of Digits dataset', fontsize=16)\n",
    "ax1.scatter(sf_projection[:, 0], sf_projection[:, 1], c=y, s=50);\n",
    "ax1.set_title('Colored by true clusters');\n",
    "ax2.scatter(sf_projection[:, 0], sf_projection[:, 1], c=sf.labels_, s=50);\n",
    "ax2.set_title('Colored by predicted clusters');\n",
    "ax1.axis('off');\n",
    "ax2.axis('off');"
   ]
  },
  {
   "cell_type": "code",
   "execution_count": null,
   "metadata": {},
   "outputs": [],
   "source": [
    "pca = KernelPCA(n_components=2)\n",
    "original_projection = pca.fit_transform(X)\n",
    "plt.scatter(original_projection[:, 0], original_projection[:, 1], c=y, s=50);\n",
    "plt.title('KernelPCA projection of Digits dataset', fontsize=16);\n",
    "plt.axis('off');"
   ]
  },
  {
   "cell_type": "code",
   "execution_count": null,
   "metadata": {},
   "outputs": [],
   "source": [
    "sf_umap = umap.UMAP(n_components=2, metric='precomputed', n_neighbors=3)\n",
    "sf_projection = sf_umap.fit_transform(sf_distance_matrix)\n",
    "\n",
    "fig, (ax1, ax2) = plt.subplots(1, 2, figsize=(12, 6))\n",
    "fig.suptitle('SF distance + UMAP projection of Digits dataset', fontsize=16)\n",
    "ax1.scatter(sf_projection[:, 0], sf_projection[:, 1], c=y, s=50);\n",
    "ax1.set_title('Colored by true clusters');\n",
    "ax2.scatter(sf_projection[:, 0], sf_projection[:, 1], c=sf.labels_, s=50);\n",
    "ax2.set_title('Colored by predicted clusters');\n",
    "ax1.axis('off');\n",
    "ax2.axis('off');"
   ]
  },
  {
   "cell_type": "code",
   "execution_count": null,
   "metadata": {},
   "outputs": [],
   "source": [
    "umap = umap.UMAP(n_components=2)\n",
    "original_projection = umap.fit_transform(X)\n",
    "plt.scatter(original_projection[:, 0], original_projection[:, 1], c=y, s=50);\n",
    "plt.title('Umap projection of Digits dataset', fontsize=16);\n",
    "plt.axis('off');"
   ]
  },
  {
   "cell_type": "code",
   "execution_count": null,
   "metadata": {},
   "outputs": [],
   "source": []
  }
 ],
 "metadata": {
  "kernelspec": {
   "display_name": "Python 3",
   "language": "python",
   "name": "python3"
  },
  "language_info": {
   "codemirror_mode": {
    "name": "ipython",
    "version": 3
   },
   "file_extension": ".py",
   "mimetype": "text/x-python",
   "name": "python",
   "nbconvert_exporter": "python",
   "pygments_lexer": "ipython3",
   "version": "3.7.3"
  }
 },
 "nbformat": 4,
 "nbformat_minor": 4
}
