{
 "cells": [
  {
   "cell_type": "code",
   "execution_count": 1,
   "metadata": {},
   "outputs": [],
   "source": [
    "import numpy as np\n",
    "from simforest.cluster import SimilarityForestCluster"
   ]
  },
  {
   "cell_type": "markdown",
   "metadata": {},
   "source": [
    "Let's say we want to find distance matrix for the 4 vectors. We'll fit single unsupervised tree and then use it to compare the instances.\n",
    "\n",
    "First, we sample a pair of vectors that are used to define the split. The first one is sampled randomly, then the second one is sampled, making sure that it's different from the first one."
   ]
  },
  {
   "cell_type": "code",
   "execution_count": 7,
   "metadata": {},
   "outputs": [],
   "source": [
    "# Input\n",
    "X = np.array([[1.0, 0.0, 2.0], [2.0, 0.0, 2.0], [0.0, 3.0, -1.0], [-1.0, -2.5, 3.6]])\n",
    "\n",
    "# Number of instances in the current tree node\n",
    "n = X.shape[0]\n",
    "\n",
    "# Sample index of first vector randomly\n",
    "first = np.random.randint(0, n)\n",
    "\n",
    "# Prepare a pool of vectors different from the first one\n",
    "others = np.where(np.abs(X - X[first]) > 0)[0]\n",
    "\n",
    "# Choose the second one from the others pool\n",
    "second = np.random.choice(others)"
   ]
  },
  {
   "cell_type": "markdown",
   "metadata": {},
   "source": [
    "Then, we calculate the projection of vectors in current node. The projection is defined as dot(X, second) - dot(X, first). One can notice, that the projection is equivalent to dot(X, second - first).\n",
    "\n",
    "In the next step, the split point is found in unsupervised way by choosing a random split point at the projection line and splitting the vectors into partitions using this threshold."
   ]
  },
  {
   "cell_type": "code",
   "execution_count": 27,
   "metadata": {},
   "outputs": [],
   "source": [
    "# Calculate the projection\n",
    "similarities = np.dot(X, X[second]-X[first])\n",
    "\n",
    "# Figure out the range of similarity values\n",
    "similarities_min = np.min(similarities)\n",
    "similarities_max = np.max(similarities)\n",
    "\n",
    "# Find a random threshold in this range\n",
    "split_point = np.random.uniform(similarities_min, similarities_max, 1)\n",
    "\n",
    "# Find indexes of vectors that should go to the left and right children of current node\n",
    "left_indexes = similarities <= split_point\n",
    "right_indexes = np.invert(left_indexes)"
   ]
  },
  {
   "cell_type": "code",
   "execution_count": 28,
   "metadata": {},
   "outputs": [
    {
     "data": {
      "text/plain": [
       "array([[ 1. ,  0. ,  2. ],\n",
       "       [ 2. ,  0. ,  2. ],\n",
       "       [-1. , -2.5,  3.6]])"
      ]
     },
     "execution_count": 28,
     "metadata": {},
     "output_type": "execute_result"
    }
   ],
   "source": [
    "# Check which vectors went will be used to build left children node\n",
    "X[left_indexes]"
   ]
  },
  {
   "cell_type": "code",
   "execution_count": 29,
   "metadata": {},
   "outputs": [
    {
     "data": {
      "text/plain": [
       "array([[ 0.,  3., -1.]])"
      ]
     },
     "execution_count": 29,
     "metadata": {},
     "output_type": "execute_result"
    }
   ],
   "source": [
    "# Check which vectors went will be used to build right children node\n",
    "X[right_indexes]"
   ]
  },
  {
   "cell_type": "markdown",
   "metadata": {},
   "source": [
    "The process of partitioning the dataset continues recursively until the depth limit is reached or all examples in each tree nodes are the same.\n",
    "\n",
    "After the tree is grown, each pair of instances is passed through the tree, and the depth at which the pair splits is used to determine dissimilarity of the instances. The dissimilarity is 1 / depth at which the pair splits. This way, we achieve maximal distance if the pair split in the first node of the tree, and small distance if the pair splits deep down the tree."
   ]
  },
  {
   "cell_type": "code",
   "execution_count": null,
   "metadata": {},
   "outputs": [],
   "source": [
    "# At each node of the tree, check if the pair goes in the same direction\n",
    "path_i = np.dot(xi, q-p) <= split_point\n",
    "path_j = np.dot(xj, q-p) <= split_point\n",
    "\n"
   ]
  }
 ],
 "metadata": {
  "kernelspec": {
   "display_name": "Python 3",
   "language": "python",
   "name": "python3"
  },
  "language_info": {
   "codemirror_mode": {
    "name": "ipython",
    "version": 3
   },
   "file_extension": ".py",
   "mimetype": "text/x-python",
   "name": "python",
   "nbconvert_exporter": "python",
   "pygments_lexer": "ipython3",
   "version": "3.8.5"
  }
 },
 "nbformat": 4,
 "nbformat_minor": 4
}
