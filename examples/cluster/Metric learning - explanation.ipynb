{
 "cells": [
  {
   "cell_type": "code",
   "execution_count": null,
   "metadata": {},
   "outputs": [],
   "source": [
    "import numpy as np\n",
    "from simforest.cluster import SimilarityForestCluster"
   ]
  },
  {
   "cell_type": "markdown",
   "metadata": {},
   "source": [
    "# Unsupervised tree fitting\n",
    "\n",
    "Let's say we want to find distance matrix for the 4 vectors. We'll fit single unsupervised tree and then use it to compare the instances.\n",
    "\n",
    "First, we sample a pair of vectors that are used to define the split. The first one is sampled randomly, then the second one is sampled, making sure that it's different from the first one."
   ]
  },
  {
   "cell_type": "code",
   "execution_count": null,
   "metadata": {},
   "outputs": [],
   "source": [
    "# Input\n",
    "X = np.array([[1.0, 0.0, 2.0], [2.0, 0.0, 2.0], [0.0, 3.0, -1.0], [-1.0, -2.5, 3.6]])\n",
    "\n",
    "# Number of instances in the current tree node\n",
    "n = X.shape[0]\n",
    "\n",
    "# Sample index of first vector randomly\n",
    "first = np.random.randint(0, n)\n",
    "\n",
    "# Prepare a pool of vectors different from the first one\n",
    "others = np.where(np.abs(X - X[first]) > 0)[0]\n",
    "\n",
    "# Choose the second one from the others pool\n",
    "second = np.random.choice(others)"
   ]
  },
  {
   "cell_type": "markdown",
   "metadata": {},
   "source": [
    "Then, we calculate the projection of vectors in current node. The projection is defined as dot(X, second) - dot(X, first). One can notice, that the projection is equivalent to dot(X, second - first).\n",
    "\n",
    "In the next step, the split point is found in unsupervised way by choosing a random split point at the projection line and splitting the vectors into partitions using this threshold."
   ]
  },
  {
   "cell_type": "code",
   "execution_count": null,
   "metadata": {},
   "outputs": [],
   "source": [
    "# Calculate the projection\n",
    "similarities = np.dot(X, X[second]-X[first])\n",
    "\n",
    "# Figure out the range of similarity values\n",
    "similarities_min = np.min(similarities)\n",
    "similarities_max = np.max(similarities)\n",
    "\n",
    "# Find a random threshold in this range\n",
    "split_point = np.random.uniform(similarities_min, similarities_max, 1)\n",
    "\n",
    "# Find indexes of vectors that should go to the left and right children of current node\n",
    "left_indexes = similarities <= split_point\n",
    "right_indexes = np.invert(left_indexes)"
   ]
  },
  {
   "cell_type": "code",
   "execution_count": null,
   "metadata": {},
   "outputs": [],
   "source": [
    "# Check which vectors went will be used to build left children node\n",
    "X[left_indexes]"
   ]
  },
  {
   "cell_type": "code",
   "execution_count": null,
   "metadata": {},
   "outputs": [],
   "source": [
    "# Check which vectors went will be used to build right children node\n",
    "X[right_indexes]"
   ]
  },
  {
   "cell_type": "markdown",
   "metadata": {},
   "source": [
    "The process of partitioning the dataset continues recursively until the depth limit is reached or all examples in each tree nodes are the same."
   ]
  },
  {
   "cell_type": "markdown",
   "metadata": {},
   "source": [
    "# Calculating distance matrix\n",
    "\n",
    "After the tree is grown, each pair of instances is passed through the tree, and the depth at which the pair splits is used to determine dissimilarity of the instances. The dissimilarity is 1 / depth at which the pair splits. This way, we achieve maximal distance if the pair split in the first node of the tree, and small distance if the pair splits deep down the tree.\n",
    "\n",
    "The draft of a function calculating the similarity can be found below."
   ]
  },
  {
   "cell_type": "code",
   "execution_count": null,
   "metadata": {},
   "outputs": [],
   "source": [
    "cdef int similarity(self, float [:] xi, float [:] xj) nogil:\n",
    "    \"\"\"Calculate similarity of a pair of data-points in tree-space.\n",
    "        The pair of traverses down the tree, and the depth on which the pair splits is recorded.\n",
    "        This values serves as a similarity measure between the pair.\n",
    "        Parameters\n",
    "        ----------\n",
    "        X : array-like matrix of shape = [n_samples, n_features]\n",
    "            The training data samples.\n",
    "        Returns\n",
    "        -------\n",
    "        int : the depth on which the pair splits.\n",
    "    \"\"\"\n",
    "    if self.is_leaf:\n",
    "        return self.depth\n",
    "\n",
    "    cdef bint path_i = self.projection(xi, self._p, self._q) <= self._split_point\n",
    "    cdef bint path_j = self.projection(xj, self._p, self._q) <= self._split_point\n",
    "\n",
    "    if path_i == path_j:\n",
    "        # the same path, check if the pair goes left or right\n",
    "        if path_i:\n",
    "            return self._lhs.similarity(xi, xj)\n",
    "        else:\n",
    "            return self._rhs.similarity(xi, xj)\n",
    "    else:\n",
    "        # different path, return current depth\n",
    "        return self.depth"
   ]
  },
  {
   "cell_type": "markdown",
   "metadata": {},
   "source": [
    "Final distance is obtained by averaging the depth at which the pairs of objects plit across all tree. This is implemented in the function below. Note, that the resulting distance matrix is not square (n_objects, n_objects), but one-dimensional, condensed matrix of shape comb(n_objects, 2)."
   ]
  },
  {
   "cell_type": "code",
   "execution_count": null,
   "metadata": {},
   "outputs": [],
   "source": [
    "cpdef np.ndarray[np.float32_t, ndim=1] predict_(self, np.ndarray[np.float32_t, ndim=2] X):\n",
    "    \"\"\"Produce pairwise distance matrix.\n",
    "        Parameters\n",
    "        ----------\n",
    "        X : array-like matrix of shape = [n_samples, n_features]\n",
    "            The training data samples.\n",
    "        Returns\n",
    "        -------\n",
    "        distance_matrix : ndarray of shape = comb(n_samples, 2) containing the distances\n",
    "    \"\"\"\n",
    "    cdef int n = X.shape[0]\n",
    "    cdef float [:, :] X_view = X\n",
    "    cdef np.ndarray[np.float32_t, ndim=1] distance_matrix = np.ones(<int>comb(n, 2), np.float32, order='c')\n",
    "    cdef float [:] view = distance_matrix\n",
    "\n",
    "    cdef int num_threads = 4\n",
    "    cdef int diagonal = 1\n",
    "    cdef int idx = 0\n",
    "    cdef float similarity = 0.0\n",
    "    cdef int i = 0\n",
    "    cdef int j = 0\n",
    "    cdef int e = 0\n",
    "    cdef CSimilarityTreeCluster current_tree\n",
    "\n",
    "    for i in range(n):\n",
    "        for j in range(diagonal, n):\n",
    "            for e in range(self.n_estimators,):\n",
    "                current_tree = self.estimators_[e]\n",
    "                similarity += current_tree.similarity(X_view[i], X_view[j])\n",
    "\n",
    "            # similarity is an average depth at which points split across all trees\n",
    "            # but we don't need to divide the accumulated similarities as this only rescales the distance\n",
    "            view[idx] = 1 / <float>similarity\n",
    "            similarity = 0.0\n",
    "            idx += 1\n",
    "        diagonal += 1\n",
    "\n",
    "    return distance_matrix"
   ]
  }
 ],
 "metadata": {
  "kernelspec": {
   "display_name": "Python 3",
   "language": "python",
   "name": "python3"
  },
  "language_info": {
   "codemirror_mode": {
    "name": "ipython",
    "version": 3
   },
   "file_extension": ".py",
   "mimetype": "text/x-python",
   "name": "python",
   "nbconvert_exporter": "python",
   "pygments_lexer": "ipython3",
   "version": "3.8.5"
  }
 },
 "nbformat": 4,
 "nbformat_minor": 4
}
